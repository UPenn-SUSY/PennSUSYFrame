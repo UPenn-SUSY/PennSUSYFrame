{
 "metadata": {
  "name": "",
  "signature": "sha256:0f3f41e00506fbe2875647f02e876b2064acc05bbb5ae54fdf9175105a70efc5"
 },
 "nbformat": 3,
 "nbformat_minor": 0,
 "worksheets": [
  {
   "cells": [
    {
     "cell_type": "markdown",
     "metadata": {},
     "source": [
      "# CutFlowTableMaker\n",
      "This script runs through the process of reading a canvas file, and construct a table showing the number of events passing each step of the signal region selection."
     ]
    },
    {
     "cell_type": "code",
     "collapsed": false,
     "input": [
      "import sys\n",
      "import ContributionsHelpers as helpers"
     ],
     "language": "python",
     "metadata": {},
     "outputs": [],
     "prompt_number": 1
    },
    {
     "cell_type": "markdown",
     "metadata": {},
     "source": [
      "## Load the files used for this analysis, and extract a data frame\n",
      "Currently, I'm pointing to a file on my laptop. This should probably be changed and made more general..."
     ]
    },
    {
     "cell_type": "code",
     "collapsed": false,
     "input": [
      "input_file_name = '/Users/bjackson/work/PennSusyFrame.00.03.21/compare_plots.b_minus_l.root' ## TODO hard coded for now make configurable\n",
      "region_df = helpers.extractRegionContributions(input_file_name)"
     ],
     "language": "python",
     "metadata": {},
     "outputs": [
      {
       "output_type": "stream",
       "stream": "stdout",
       "text": [
        "extracting region contributions from file:  /Users/bjackson/work/PennSusyFrame.00.03.21/compare_plots.b_minus_l.root\n"
       ]
      }
     ],
     "prompt_number": 3
    },
    {
     "cell_type": "markdown",
     "metadata": {},
     "source": [
      "## Dictionary of regions and their names in the table\n",
      "Define the regions we want to use and extract the sample names from the data frame."
     ]
    },
    {
     "cell_type": "code",
     "collapsed": false,
     "input": [
      "cutflow_region_list = ['BMINUSL_BL_PAIRING',\n",
      "                       'BMINUSL_ZVETO',\n",
      "                       'BMINUSL_SR_1_MINUS_MBL_ASYM',\n",
      "                       'BMINUSL_SR_1']\n",
      "def getRegionTitle(region):\n",
      "    if region == 'BMINUSL_BL_PAIRING':\n",
      "        return 'Inclusive'\n",
      "    if region == 'BMINUSL_ZVETO':\n",
      "        return 'Z veto'\n",
      "    if region == 'BMINUSL_SR_1_MINUS_MBL_ASYM':\n",
      "        return '$h_{T}$ cut'\n",
      "    if region == 'BMINUSL_SR_1':\n",
      "        return '$m_{b\\ell}$ asymmetry cut'\n",
      "    return region\n",
      "\n",
      "bkg_sample_names = region_df[-region_df['Sample'].str.contains('stop')]['Sample'].unique()\n",
      "sig_sample_names = region_df[region_df['Sample'].str.contains('stop')]['Sample'].unique()"
     ],
     "language": "python",
     "metadata": {},
     "outputs": [
      {
       "ename": "KeyError",
       "evalue": "'Sample'",
       "output_type": "pyerr",
       "traceback": [
        "\u001b[0;31m---------------------------------------------------------------------------\u001b[0m\n\u001b[0;31mKeyError\u001b[0m                                  Traceback (most recent call last)",
        "\u001b[0;32m<ipython-input-4-63405ab9d940>\u001b[0m in \u001b[0;36m<module>\u001b[0;34m()\u001b[0m\n\u001b[1;32m     14\u001b[0m     \u001b[0;32mreturn\u001b[0m \u001b[0mregion\u001b[0m\u001b[0;34m\u001b[0m\u001b[0m\n\u001b[1;32m     15\u001b[0m \u001b[0;34m\u001b[0m\u001b[0m\n\u001b[0;32m---> 16\u001b[0;31m \u001b[0mbkg_sample_names\u001b[0m \u001b[0;34m=\u001b[0m \u001b[0mregion_df\u001b[0m\u001b[0;34m[\u001b[0m\u001b[0;34m-\u001b[0m\u001b[0mregion_df\u001b[0m\u001b[0;34m[\u001b[0m\u001b[0;34m'Sample'\u001b[0m\u001b[0;34m]\u001b[0m\u001b[0;34m.\u001b[0m\u001b[0mstr\u001b[0m\u001b[0;34m.\u001b[0m\u001b[0mcontains\u001b[0m\u001b[0;34m(\u001b[0m\u001b[0;34m'stop'\u001b[0m\u001b[0;34m)\u001b[0m\u001b[0;34m]\u001b[0m\u001b[0;34m[\u001b[0m\u001b[0;34m'Sample'\u001b[0m\u001b[0;34m]\u001b[0m\u001b[0;34m.\u001b[0m\u001b[0munique\u001b[0m\u001b[0;34m(\u001b[0m\u001b[0;34m)\u001b[0m\u001b[0;34m\u001b[0m\u001b[0m\n\u001b[0m\u001b[1;32m     17\u001b[0m \u001b[0msig_sample_names\u001b[0m \u001b[0;34m=\u001b[0m \u001b[0mregion_df\u001b[0m\u001b[0;34m[\u001b[0m\u001b[0mregion_df\u001b[0m\u001b[0;34m[\u001b[0m\u001b[0;34m'Sample'\u001b[0m\u001b[0;34m]\u001b[0m\u001b[0;34m.\u001b[0m\u001b[0mstr\u001b[0m\u001b[0;34m.\u001b[0m\u001b[0mcontains\u001b[0m\u001b[0;34m(\u001b[0m\u001b[0;34m'stop'\u001b[0m\u001b[0;34m)\u001b[0m\u001b[0;34m]\u001b[0m\u001b[0;34m[\u001b[0m\u001b[0;34m'Sample'\u001b[0m\u001b[0;34m]\u001b[0m\u001b[0;34m.\u001b[0m\u001b[0munique\u001b[0m\u001b[0;34m(\u001b[0m\u001b[0;34m)\u001b[0m\u001b[0;34m\u001b[0m\u001b[0m\n",
        "\u001b[0;32m/Users/bjackson/anaconda/lib/python2.7/site-packages/pandas/core/frame.pyc\u001b[0m in \u001b[0;36m__getitem__\u001b[0;34m(self, key)\u001b[0m\n\u001b[1;32m   1682\u001b[0m             \u001b[0;32mreturn\u001b[0m \u001b[0mself\u001b[0m\u001b[0;34m.\u001b[0m\u001b[0m_getitem_multilevel\u001b[0m\u001b[0;34m(\u001b[0m\u001b[0mkey\u001b[0m\u001b[0;34m)\u001b[0m\u001b[0;34m\u001b[0m\u001b[0m\n\u001b[1;32m   1683\u001b[0m         \u001b[0;32melse\u001b[0m\u001b[0;34m:\u001b[0m\u001b[0;34m\u001b[0m\u001b[0m\n\u001b[0;32m-> 1684\u001b[0;31m             \u001b[0;32mreturn\u001b[0m \u001b[0mself\u001b[0m\u001b[0;34m.\u001b[0m\u001b[0m_getitem_column\u001b[0m\u001b[0;34m(\u001b[0m\u001b[0mkey\u001b[0m\u001b[0;34m)\u001b[0m\u001b[0;34m\u001b[0m\u001b[0m\n\u001b[0m\u001b[1;32m   1685\u001b[0m \u001b[0;34m\u001b[0m\u001b[0m\n\u001b[1;32m   1686\u001b[0m     \u001b[0;32mdef\u001b[0m \u001b[0m_getitem_column\u001b[0m\u001b[0;34m(\u001b[0m\u001b[0mself\u001b[0m\u001b[0;34m,\u001b[0m \u001b[0mkey\u001b[0m\u001b[0;34m)\u001b[0m\u001b[0;34m:\u001b[0m\u001b[0;34m\u001b[0m\u001b[0m\n",
        "\u001b[0;32m/Users/bjackson/anaconda/lib/python2.7/site-packages/pandas/core/frame.pyc\u001b[0m in \u001b[0;36m_getitem_column\u001b[0;34m(self, key)\u001b[0m\n\u001b[1;32m   1689\u001b[0m         \u001b[0;31m# get column\u001b[0m\u001b[0;34m\u001b[0m\u001b[0;34m\u001b[0m\u001b[0m\n\u001b[1;32m   1690\u001b[0m         \u001b[0;32mif\u001b[0m \u001b[0mself\u001b[0m\u001b[0;34m.\u001b[0m\u001b[0mcolumns\u001b[0m\u001b[0;34m.\u001b[0m\u001b[0mis_unique\u001b[0m\u001b[0;34m:\u001b[0m\u001b[0;34m\u001b[0m\u001b[0m\n\u001b[0;32m-> 1691\u001b[0;31m             \u001b[0;32mreturn\u001b[0m \u001b[0mself\u001b[0m\u001b[0;34m.\u001b[0m\u001b[0m_get_item_cache\u001b[0m\u001b[0;34m(\u001b[0m\u001b[0mkey\u001b[0m\u001b[0;34m)\u001b[0m\u001b[0;34m\u001b[0m\u001b[0m\n\u001b[0m\u001b[1;32m   1692\u001b[0m \u001b[0;34m\u001b[0m\u001b[0m\n\u001b[1;32m   1693\u001b[0m         \u001b[0;31m# duplicate columns & possible reduce dimensionaility\u001b[0m\u001b[0;34m\u001b[0m\u001b[0;34m\u001b[0m\u001b[0m\n",
        "\u001b[0;32m/Users/bjackson/anaconda/lib/python2.7/site-packages/pandas/core/generic.pyc\u001b[0m in \u001b[0;36m_get_item_cache\u001b[0;34m(self, item)\u001b[0m\n\u001b[1;32m   1050\u001b[0m         \u001b[0mres\u001b[0m \u001b[0;34m=\u001b[0m \u001b[0mcache\u001b[0m\u001b[0;34m.\u001b[0m\u001b[0mget\u001b[0m\u001b[0;34m(\u001b[0m\u001b[0mitem\u001b[0m\u001b[0;34m)\u001b[0m\u001b[0;34m\u001b[0m\u001b[0m\n\u001b[1;32m   1051\u001b[0m         \u001b[0;32mif\u001b[0m \u001b[0mres\u001b[0m \u001b[0;32mis\u001b[0m \u001b[0mNone\u001b[0m\u001b[0;34m:\u001b[0m\u001b[0;34m\u001b[0m\u001b[0m\n\u001b[0;32m-> 1052\u001b[0;31m             \u001b[0mvalues\u001b[0m \u001b[0;34m=\u001b[0m \u001b[0mself\u001b[0m\u001b[0;34m.\u001b[0m\u001b[0m_data\u001b[0m\u001b[0;34m.\u001b[0m\u001b[0mget\u001b[0m\u001b[0;34m(\u001b[0m\u001b[0mitem\u001b[0m\u001b[0;34m)\u001b[0m\u001b[0;34m\u001b[0m\u001b[0m\n\u001b[0m\u001b[1;32m   1053\u001b[0m             \u001b[0mres\u001b[0m \u001b[0;34m=\u001b[0m \u001b[0mself\u001b[0m\u001b[0;34m.\u001b[0m\u001b[0m_box_item_values\u001b[0m\u001b[0;34m(\u001b[0m\u001b[0mitem\u001b[0m\u001b[0;34m,\u001b[0m \u001b[0mvalues\u001b[0m\u001b[0;34m)\u001b[0m\u001b[0;34m\u001b[0m\u001b[0m\n\u001b[1;32m   1054\u001b[0m             \u001b[0mcache\u001b[0m\u001b[0;34m[\u001b[0m\u001b[0mitem\u001b[0m\u001b[0;34m]\u001b[0m \u001b[0;34m=\u001b[0m \u001b[0mres\u001b[0m\u001b[0;34m\u001b[0m\u001b[0m\n",
        "\u001b[0;32m/Users/bjackson/anaconda/lib/python2.7/site-packages/pandas/core/internals.pyc\u001b[0m in \u001b[0;36mget\u001b[0;34m(self, item)\u001b[0m\n\u001b[1;32m   2535\u001b[0m \u001b[0;34m\u001b[0m\u001b[0m\n\u001b[1;32m   2536\u001b[0m             \u001b[0;32mif\u001b[0m \u001b[0;32mnot\u001b[0m \u001b[0misnull\u001b[0m\u001b[0;34m(\u001b[0m\u001b[0mitem\u001b[0m\u001b[0;34m)\u001b[0m\u001b[0;34m:\u001b[0m\u001b[0;34m\u001b[0m\u001b[0m\n\u001b[0;32m-> 2537\u001b[0;31m                 \u001b[0mloc\u001b[0m \u001b[0;34m=\u001b[0m \u001b[0mself\u001b[0m\u001b[0;34m.\u001b[0m\u001b[0mitems\u001b[0m\u001b[0;34m.\u001b[0m\u001b[0mget_loc\u001b[0m\u001b[0;34m(\u001b[0m\u001b[0mitem\u001b[0m\u001b[0;34m)\u001b[0m\u001b[0;34m\u001b[0m\u001b[0m\n\u001b[0m\u001b[1;32m   2538\u001b[0m             \u001b[0;32melse\u001b[0m\u001b[0;34m:\u001b[0m\u001b[0;34m\u001b[0m\u001b[0m\n\u001b[1;32m   2539\u001b[0m                 \u001b[0mindexer\u001b[0m \u001b[0;34m=\u001b[0m \u001b[0mnp\u001b[0m\u001b[0;34m.\u001b[0m\u001b[0marange\u001b[0m\u001b[0;34m(\u001b[0m\u001b[0mlen\u001b[0m\u001b[0;34m(\u001b[0m\u001b[0mself\u001b[0m\u001b[0;34m.\u001b[0m\u001b[0mitems\u001b[0m\u001b[0;34m)\u001b[0m\u001b[0;34m)\u001b[0m\u001b[0;34m[\u001b[0m\u001b[0misnull\u001b[0m\u001b[0;34m(\u001b[0m\u001b[0mself\u001b[0m\u001b[0;34m.\u001b[0m\u001b[0mitems\u001b[0m\u001b[0;34m)\u001b[0m\u001b[0;34m]\u001b[0m\u001b[0;34m\u001b[0m\u001b[0m\n",
        "\u001b[0;32m/Users/bjackson/anaconda/lib/python2.7/site-packages/pandas/core/index.pyc\u001b[0m in \u001b[0;36mget_loc\u001b[0;34m(self, key)\u001b[0m\n\u001b[1;32m   1154\u001b[0m         \u001b[0mloc\u001b[0m \u001b[0;34m:\u001b[0m \u001b[0mint\u001b[0m \u001b[0;32mif\u001b[0m \u001b[0munique\u001b[0m \u001b[0mindex\u001b[0m\u001b[0;34m,\u001b[0m \u001b[0mpossibly\u001b[0m \u001b[0mslice\u001b[0m \u001b[0;32mor\u001b[0m \u001b[0mmask\u001b[0m \u001b[0;32mif\u001b[0m \u001b[0;32mnot\u001b[0m\u001b[0;34m\u001b[0m\u001b[0m\n\u001b[1;32m   1155\u001b[0m         \"\"\"\n\u001b[0;32m-> 1156\u001b[0;31m         \u001b[0;32mreturn\u001b[0m \u001b[0mself\u001b[0m\u001b[0;34m.\u001b[0m\u001b[0m_engine\u001b[0m\u001b[0;34m.\u001b[0m\u001b[0mget_loc\u001b[0m\u001b[0;34m(\u001b[0m\u001b[0m_values_from_object\u001b[0m\u001b[0;34m(\u001b[0m\u001b[0mkey\u001b[0m\u001b[0;34m)\u001b[0m\u001b[0;34m)\u001b[0m\u001b[0;34m\u001b[0m\u001b[0m\n\u001b[0m\u001b[1;32m   1157\u001b[0m \u001b[0;34m\u001b[0m\u001b[0m\n\u001b[1;32m   1158\u001b[0m     \u001b[0;32mdef\u001b[0m \u001b[0mget_value\u001b[0m\u001b[0;34m(\u001b[0m\u001b[0mself\u001b[0m\u001b[0;34m,\u001b[0m \u001b[0mseries\u001b[0m\u001b[0;34m,\u001b[0m \u001b[0mkey\u001b[0m\u001b[0;34m)\u001b[0m\u001b[0;34m:\u001b[0m\u001b[0;34m\u001b[0m\u001b[0m\n",
        "\u001b[0;32m/Users/bjackson/anaconda/lib/python2.7/site-packages/pandas/index.so\u001b[0m in \u001b[0;36mpandas.index.IndexEngine.get_loc (pandas/index.c:3650)\u001b[0;34m()\u001b[0m\n",
        "\u001b[0;32m/Users/bjackson/anaconda/lib/python2.7/site-packages/pandas/index.so\u001b[0m in \u001b[0;36mpandas.index.IndexEngine.get_loc (pandas/index.c:3528)\u001b[0;34m()\u001b[0m\n",
        "\u001b[0;32m/Users/bjackson/anaconda/lib/python2.7/site-packages/pandas/hashtable.so\u001b[0m in \u001b[0;36mpandas.hashtable.PyObjectHashTable.get_item (pandas/hashtable.c:11908)\u001b[0;34m()\u001b[0m\n",
        "\u001b[0;32m/Users/bjackson/anaconda/lib/python2.7/site-packages/pandas/hashtable.so\u001b[0m in \u001b[0;36mpandas.hashtable.PyObjectHashTable.get_item (pandas/hashtable.c:11861)\u001b[0;34m()\u001b[0m\n",
        "\u001b[0;31mKeyError\u001b[0m: 'Sample'"
       ]
      }
     ],
     "prompt_number": 4
    },
    {
     "cell_type": "markdown",
     "metadata": {},
     "source": [
      "## printCutFlowTableRegionRows\n",
      "Function which takes a data frame, list of regions and list of samples. The region and sample combinations are extracted from the data frame, and a table is constructed, with each row representing a different region (selection), and the columns are the different samples."
     ]
    },
    {
     "cell_type": "code",
     "collapsed": false,
     "input": [
      "def printCutFlowTableRegionRows(region_df, cutflow_regions, sample_names):\n",
      "    print '\\\\begin{table}'\n",
      "    print '\\\\centering{'\n",
      "    print ''.join(['\\\\begin{tabular}{c|', 'c'*len(sample_names), '}'])\n",
      "    print 'Selection &', ' & '.join([helpers.getSampleTitle(sample) for\n",
      "                                     sample in sample_names])\n",
      "    print '\\\\\\\\'\n",
      "    print '\\\\toprule'\n",
      "\n",
      "    for region, region_title in zip(cutflow_regions,\n",
      "                                    [getRegionTitle(r) for r in cutflow_regions]):\n",
      "        this_line = [region_title]\n",
      "        this_line.extend([helpers.getNumString(region_df[(region_df.Region == region) &\n",
      "                                              (region_df.Sample == sample)]['Count'].iloc[0], 1)\n",
      "                          for sample in sample_names])\n",
      "        print ' & '.join(this_line)\n",
      "        print '\\\\\\\\'\n",
      "    print '''\\\\bottomrule\n",
      "\\\\end{tabular}\n",
      "}\n",
      "\\\\caption{\\\\color{red}{TODO add caption here!}}\n",
      "\\\\label{tab:XXX}\n",
      "\\\\end{table}\n",
      "'''"
     ],
     "language": "python",
     "metadata": {},
     "outputs": [],
     "prompt_number": 7
    },
    {
     "cell_type": "markdown",
     "metadata": {},
     "source": [
      "## Print tables!\n",
      "Print tables with the \"region - rows option\""
     ]
    },
    {
     "cell_type": "code",
     "collapsed": false,
     "input": [
      "printCutFlowTableRegionRows(region_df,\n",
      "                            cutflow_region_list,\n",
      "                            bkg_sample_names)\n",
      "\n",
      "print\n",
      "print '-----'\n",
      "print\n",
      "\n",
      "printCutFlowTableRegionRows(region_df,\n",
      "                            cutflow_region_list,\n",
      "                            sig_sample_names)"
     ],
     "language": "python",
     "metadata": {},
     "outputs": [
      {
       "output_type": "stream",
       "stream": "stdout",
       "text": [
        "\\begin{table}\n",
        "\\centering{\n",
        "\\begin{tabular}{c|cccc}\n",
        "Selection & $Z/\\gamma^{*}$ & $t\\bar{t}$ & Other & Single top\n",
        "\\\\\n",
        "\\toprule\n",
        "Inclusive & 2484.7 & 10919.4 & 136.4 & 360.3\n",
        "\\\\\n",
        "Z veto & 372.0 & 10315.4 & 69.4 & 343.4\n",
        "\\\\\n",
        "$h_{T}$ cut & 1.3 & 3.2 & 0.4 & 1.5\n",
        "\\\\\n",
        "$m_{b\\ell}$ asymmetry cut & 0.6 & 0.7 & 0.1 & 0.6\n",
        "\\\\\n",
        "\\bottomrule\n",
        "\\end{tabular}\n",
        "}\n",
        "\\caption{\\color{red}{TODO add caption here!}}\n",
        "\\label{tab:XXX}\n",
        "\\end{table}\n",
        "\n",
        "\n",
        "-----\n",
        "\n",
        "\\begin{table}\n",
        "\\centering{\n",
        "\\begin{tabular}{c|ccc}\n",
        "Selection & B-L stop (500 GeV) & B-L stop (1000 GeV) & B-L stop (800 GeV)\n",
        "\\\\\n",
        "\\toprule\n",
        "Inclusive & 645.2 & 2.8 & 20.3"
       ]
      },
      {
       "output_type": "stream",
       "stream": "stdout",
       "text": [
        "\n",
        "\\\\\n",
        "Z veto & 640.6 & 2.8 & 20.3\n",
        "\\\\\n",
        "$h_{T}$ cut & 127.1 & 2.6 & 16.6\n",
        "\\\\\n",
        "$m_{b\\ell}$ asymmetry cut & 116.7 & 2.2 & 14.5\n",
        "\\\\\n",
        "\\bottomrule\n",
        "\\end{tabular}\n",
        "}\n",
        "\\caption{\\color{red}{TODO add caption here!}}\n",
        "\\label{tab:XXX}\n",
        "\\end{table}\n",
        "\n"
       ]
      }
     ],
     "prompt_number": 8
    },
    {
     "cell_type": "markdown",
     "metadata": {},
     "source": [
      "## printCutFlowTableSampleRows\n",
      "Function which takes a data frame, list of regions and list of samples. The region and sample combinations are extracted from the data frame, and a table is constructed, with each row representing a different sample, and the columns are the different regions (selections)."
     ]
    },
    {
     "cell_type": "code",
     "collapsed": false,
     "input": [
      "def printCutFlowTableSampleRows(region_df, cutflow_regions, sample_names):\n",
      "    print '\\\\begin{table}'\n",
      "    print '\\\\centering{'\n",
      "    print ''.join(['\\\\begin{tabular}{c|', 'c'*len(cutflow_regions), '}'])\n",
      "    print 'Sample &', ' & '.join([getRegionTitle(region) for\n",
      "                                  region in cutflow_regions])\n",
      "    print '\\\\\\\\'\n",
      "    print '\\\\toprule'\n",
      "    \n",
      "    for sample in sample_names:\n",
      "        this_line = [helpers.getSampleTitle(sample)]\n",
      "        this_line.extend([helpers.getNumString(region_df[(region_df.Region == region) &\n",
      "                                              (region_df.Sample == sample)]['Count'].iloc[0], 1)\n",
      "                          for region in cutflow_regions])\n",
      "        print ' & '.join(this_line)\n",
      "        print '\\\\\\\\'\n",
      "\n",
      "\n",
      "    print '''\\\\bottomrule\n",
      "\\\\end{tabular}\n",
      "}\n",
      "\\\\caption{\\\\color{red}{TODO add caption here!}}\n",
      "\\\\label{tab:XXX}\n",
      "\\\\end{table}\n",
      "'''"
     ],
     "language": "python",
     "metadata": {},
     "outputs": [],
     "prompt_number": 9
    },
    {
     "cell_type": "markdown",
     "metadata": {},
     "source": [
      "## Print tables!\n",
      "Print tables with the \"sample - rows option\""
     ]
    },
    {
     "cell_type": "code",
     "collapsed": false,
     "input": [
      "printCutFlowTableSampleRows(region_df,\n",
      "                            cutflow_region_list,\n",
      "                            bkg_sample_names)\n",
      "\n",
      "print\n",
      "print '-----'\n",
      "print\n",
      "\n",
      "printCutFlowTableSampleRows(region_df,\n",
      "                            cutflow_region_list,\n",
      "                            sig_sample_names)"
     ],
     "language": "python",
     "metadata": {},
     "outputs": [
      {
       "output_type": "stream",
       "stream": "stdout",
       "text": [
        "\\begin{table}\n",
        "\\centering{\n",
        "\\begin{tabular}{c|cccc}\n",
        "Sample & Inclusive & Z veto & $h_{T}$ cut & $m_{b\\ell}$ asymmetry cut\n",
        "\\\\\n",
        "\\toprule\n",
        "$Z/\\gamma^{*}$ & 2484.7 & 372.0 & 1.3 & 0.6\n",
        "\\\\\n",
        "$t\\bar{t}$ & 10919.4 & 10315.4 & 3.2 & 0.7\n",
        "\\\\\n",
        "Other & 136.4 & 69.4 & 0.4 & 0.1\n",
        "\\\\\n",
        "Single top & 360.3 & 343.4 & 1.5 & 0.6\n",
        "\\\\\n",
        "\\bottomrule\n",
        "\\end{tabular}\n",
        "}\n",
        "\\caption{\\color{red}{TODO add caption here!}}\n",
        "\\label{tab:XXX}\n",
        "\\end{table}\n",
        "\n",
        "\n",
        "-----\n",
        "\n",
        "\\begin{table}\n",
        "\\centering{\n",
        "\\begin{tabular}{c|cccc}\n",
        "Sample & Inclusive & Z veto & $h_{T}$ cut & $m_{b\\ell}$ asymmetry cut\n",
        "\\\\\n",
        "\\toprule\n",
        "B-L stop (500 GeV) & 645.2 & 640.6 & 127.1 & 116.7"
       ]
      },
      {
       "output_type": "stream",
       "stream": "stdout",
       "text": [
        "\n",
        "\\\\\n",
        "B-L stop (1000 GeV) & 2.8 & 2.8 & 2.6 & 2.2\n",
        "\\\\\n",
        "B-L stop (800 GeV) & 20.3 & 20.3 & 16.6 & 14.5\n",
        "\\\\\n",
        "\\bottomrule\n",
        "\\end{tabular}\n",
        "}\n",
        "\\caption{\\color{red}{TODO add caption here!}}\n",
        "\\label{tab:XXX}\n",
        "\\end{table}\n",
        "\n"
       ]
      }
     ],
     "prompt_number": 10
    },
    {
     "cell_type": "code",
     "collapsed": false,
     "input": [],
     "language": "python",
     "metadata": {},
     "outputs": [],
     "prompt_number": 31
    }
   ],
   "metadata": {}
  }
 ]
}