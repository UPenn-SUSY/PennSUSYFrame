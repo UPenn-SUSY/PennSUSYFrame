{
 "metadata": {
  "name": "",
  "signature": "sha256:9ccfc176d2f8ee5eca65e1d8d2f862c61d1d92a47eb3a96dee596eb06f3cddca"
 },
 "nbformat": 3,
 "nbformat_minor": 0,
 "worksheets": [
  {
   "cells": [
    {
     "cell_type": "markdown",
     "metadata": {},
     "source": [
      "# CutFlowTableMaker\n",
      "This script runs through the process of reading a canvas file, and construct a table showing the number of events passing each step of the signal region selection."
     ]
    },
    {
     "cell_type": "code",
     "collapsed": false,
     "input": [
      "import sys\n",
      "import ContributionsHelpers as helpers"
     ],
     "language": "python",
     "metadata": {},
     "outputs": [],
     "prompt_number": 2
    },
    {
     "cell_type": "markdown",
     "metadata": {},
     "source": [
      "## Load the files used for this analysis, and extract a data frame\n",
      "Currently, I'm pointing to a file on my laptop. This should probably be changed and made more general..."
     ]
    },
    {
     "cell_type": "code",
     "collapsed": false,
     "input": [
      "input_file_name = '/Users/bjackson/work/PennSusyFrame.00.03.21/compare_plots.b_minus_l.root' ## TODO hard coded for now make configurable\n",
      "region_df = helpers.extractRegionContributions(input_file_name)"
     ],
     "language": "python",
     "metadata": {},
     "outputs": [
      {
       "output_type": "stream",
       "stream": "stdout",
       "text": [
        "extracting region contributions from file:  /Users/bjackson/work/PennSusyFrame.00.03.21/compare_plots.b_minus_l.root\n"
       ]
      }
     ],
     "prompt_number": 6
    },
    {
     "cell_type": "markdown",
     "metadata": {},
     "source": [
      "## Dictionary of regions and their names in the table\n",
      "Define the regions we want to use and extract the sample names from the data frame."
     ]
    },
    {
     "cell_type": "code",
     "collapsed": false,
     "input": [
      "region_df[region_df['region'].str.contains('SR') & region_df['sample'].str.contains('ttbar')].head(50)"
     ],
     "language": "python",
     "metadata": {},
     "outputs": [
      {
       "html": [
        "<div style=\"max-height:1000px;max-width:1500px;overflow:auto;\">\n",
        "<table border=\"1\" class=\"dataframe\">\n",
        "  <thead>\n",
        "    <tr style=\"text-align: right;\">\n",
        "      <th></th>\n",
        "      <th>region</th>\n",
        "      <th>sample</th>\n",
        "      <th>count</th>\n",
        "      <th>raw</th>\n",
        "    </tr>\n",
        "  </thead>\n",
        "  <tbody>\n",
        "    <tr>\n",
        "      <th>68 </th>\n",
        "      <td>         BMINUSL_PARTIAL_SR_HT_1100_Z_VETO</td>\n",
        "      <td> ttbar</td>\n",
        "      <td>   3.087375</td>\n",
        "      <td>  175</td>\n",
        "    </tr>\n",
        "    <tr>\n",
        "      <th>75 </th>\n",
        "      <td>                BMINUSL_SR_HT_1100_MBL_400</td>\n",
        "      <td> ttbar</td>\n",
        "      <td>  0.2991158</td>\n",
        "      <td>   15</td>\n",
        "    </tr>\n",
        "    <tr>\n",
        "      <th>82 </th>\n",
        "      <td>       BMINUSL_SR_HT_1100_MBL_400_MINUS_HT</td>\n",
        "      <td> ttbar</td>\n",
        "      <td>   47.20965</td>\n",
        "      <td> 1982</td>\n",
        "    </tr>\n",
        "    <tr>\n",
        "      <th>89 </th>\n",
        "      <td> BMINUSL_SR_HT_1100_MBL_400_MINUS_MBL_ASYM</td>\n",
        "      <td> ttbar</td>\n",
        "      <td>   2.206707</td>\n",
        "      <td>  124</td>\n",
        "    </tr>\n",
        "    <tr>\n",
        "      <th>96 </th>\n",
        "      <td>   BMINUSL_SR_HT_1100_MBL_400_MINUS_Z_VETO</td>\n",
        "      <td> ttbar</td>\n",
        "      <td>  0.2991158</td>\n",
        "      <td>   16</td>\n",
        "    </tr>\n",
        "    <tr>\n",
        "      <th>103</th>\n",
        "      <td>                BMINUSL_SR_HT_1100_MBL_600</td>\n",
        "      <td> ttbar</td>\n",
        "      <td> 0.08878137</td>\n",
        "      <td>    3</td>\n",
        "    </tr>\n",
        "    <tr>\n",
        "      <th>110</th>\n",
        "      <td>       BMINUSL_SR_HT_1100_MBL_600_MINUS_HT</td>\n",
        "      <td> ttbar</td>\n",
        "      <td>   2.951373</td>\n",
        "      <td>  143</td>\n",
        "    </tr>\n",
        "    <tr>\n",
        "      <th>117</th>\n",
        "      <td> BMINUSL_SR_HT_1100_MBL_600_MINUS_MBL_ASYM</td>\n",
        "      <td> ttbar</td>\n",
        "      <td>   1.018608</td>\n",
        "      <td>   59</td>\n",
        "    </tr>\n",
        "    <tr>\n",
        "      <th>124</th>\n",
        "      <td>   BMINUSL_SR_HT_1100_MBL_600_MINUS_Z_VETO</td>\n",
        "      <td> ttbar</td>\n",
        "      <td> 0.08878137</td>\n",
        "      <td>    3</td>\n",
        "    </tr>\n",
        "    <tr>\n",
        "      <th>131</th>\n",
        "      <td>              BMINUSL_SR_HT_1100_MINUS_MBL</td>\n",
        "      <td> ttbar</td>\n",
        "      <td>  0.7211204</td>\n",
        "      <td>   39</td>\n",
        "    </tr>\n",
        "  </tbody>\n",
        "</table>\n",
        "</div>"
       ],
       "metadata": {},
       "output_type": "pyout",
       "prompt_number": 7,
       "text": [
        "                                        region sample       count   raw\n",
        "68           BMINUSL_PARTIAL_SR_HT_1100_Z_VETO  ttbar    3.087375   175\n",
        "75                  BMINUSL_SR_HT_1100_MBL_400  ttbar   0.2991158    15\n",
        "82         BMINUSL_SR_HT_1100_MBL_400_MINUS_HT  ttbar    47.20965  1982\n",
        "89   BMINUSL_SR_HT_1100_MBL_400_MINUS_MBL_ASYM  ttbar    2.206707   124\n",
        "96     BMINUSL_SR_HT_1100_MBL_400_MINUS_Z_VETO  ttbar   0.2991158    16\n",
        "103                 BMINUSL_SR_HT_1100_MBL_600  ttbar  0.08878137     3\n",
        "110        BMINUSL_SR_HT_1100_MBL_600_MINUS_HT  ttbar    2.951373   143\n",
        "117  BMINUSL_SR_HT_1100_MBL_600_MINUS_MBL_ASYM  ttbar    1.018608    59\n",
        "124    BMINUSL_SR_HT_1100_MBL_600_MINUS_Z_VETO  ttbar  0.08878137     3\n",
        "131               BMINUSL_SR_HT_1100_MINUS_MBL  ttbar   0.7211204    39"
       ]
      }
     ],
     "prompt_number": 7
    },
    {
     "cell_type": "code",
     "collapsed": false,
     "input": [
      "cutflow_region_list = ['BMINUSL_BL_PAIRING',\n",
      "                       'BMINUSL_ZVETO',\n",
      "                       'BMINUSL_PARTIAL_SR_HT_1100_Z_VETO',\n",
      "                       'BMINUSL_SR_HT_1100_MINUS_MBL',\n",
      "                       'BMINUSL_SR_HT_1100_MBL_400',\n",
      "                       'BMINUSL_SR_HT_1100_MBL_600'\n",
      "                       ]\n",
      "def getRegionTitle(region):\n",
      "    if region == 'BMINUSL_BL_PAIRING':\n",
      "        return 'Inclusive'\n",
      "    if region == 'BMINUSL_ZVETO':\n",
      "        return 'Z veto'\n",
      "    if region == 'BMINUSL_PARTIAL_SR_HT_1100_Z_VETO':\n",
      "        return '$h_{T}$ cut'\n",
      "    if region == 'BMINUSL_SR_HT_1100_MINUS_MBL':\n",
      "        return '$m_{b\\ell}$ asymmetry cut'\n",
      "    if region == 'BMINUSL_SR_HT_1100_MBL_400':\n",
      "        return '$m_{b\\ell} \\ge 400$ GeV'\n",
      "    if region == 'BMINUSL_SR_HT_1100_MBL_600':\n",
      "        return '$m_{b\\ell} \\ge 600$ GeV'\n",
      "\n",
      "    return region\n",
      "\n",
      "bkg_sample_names = region_df[-region_df['sample'].str.contains('stop')]['sample'].unique()\n",
      "sig_sample_names = region_df[region_df['sample'].str.contains('stop')]['sample'].unique()"
     ],
     "language": "python",
     "metadata": {},
     "outputs": [],
     "prompt_number": 8
    },
    {
     "cell_type": "markdown",
     "metadata": {},
     "source": [
      "## printCutFlowTableRegionRows\n",
      "Function which takes a data frame, list of regions and list of samples. The region and sample combinations are extracted from the data frame, and a table is constructed, with each row representing a different region (selection), and the columns are the different samples."
     ]
    },
    {
     "cell_type": "code",
     "collapsed": false,
     "input": [
      "def printCutFlowTableRegionRows(region_df, cutflow_regions, sample_names):\n",
      "    print '\\\\begin{table}'\n",
      "    print '\\\\centering{'\n",
      "    print ''.join(['\\\\begin{tabular}{c|', 'c'*len(sample_names), '}'])\n",
      "    print 'Selection &', ' & '.join([helpers.getSampleTitle(sample) for\n",
      "                                     sample in sample_names])\n",
      "    print '\\\\\\\\'\n",
      "    print '\\\\toprule'\n",
      "\n",
      "    for region, region_title in zip(cutflow_regions,\n",
      "                                    [getRegionTitle(r) for r in cutflow_regions]):\n",
      "        this_line = [region_title]\n",
      "        this_line.extend([helpers.getNumString(region_df[(region_df.region == region) &\n",
      "                                              (region_df.sample == sample)]['count'].iloc[0], 1)\n",
      "                          for sample in sample_names])\n",
      "        print ' & '.join(this_line)\n",
      "        print '\\\\\\\\'\n",
      "    print '''\\\\bottomrule\n",
      "\\\\end{tabular}\n",
      "}\n",
      "\\\\caption{\\\\color{red}{TODO add caption here!}}\n",
      "\\\\label{tab:XXX}\n",
      "\\\\end{table}\n",
      "'''"
     ],
     "language": "python",
     "metadata": {},
     "outputs": [],
     "prompt_number": 9
    },
    {
     "cell_type": "markdown",
     "metadata": {},
     "source": [
      "## Print tables!\n",
      "Print tables with the \"region - rows option\""
     ]
    },
    {
     "cell_type": "code",
     "collapsed": false,
     "input": [
      "printCutFlowTableRegionRows(region_df,\n",
      "                            cutflow_region_list,\n",
      "                            bkg_sample_names)\n",
      "\n",
      "print\n",
      "print '-----'\n",
      "print\n",
      "\n",
      "printCutFlowTableRegionRows(region_df,\n",
      "                            cutflow_region_list,\n",
      "                            sig_sample_names)"
     ],
     "language": "python",
     "metadata": {},
     "outputs": [
      {
       "output_type": "stream",
       "stream": "stdout",
       "text": [
        "\\begin{table}\n",
        "\\centering{\n",
        "\\begin{tabular}{c|cccc}\n",
        "Selection & $Z/\\gamma^{*}$ & $t\\bar{t}$ & Other & Single top\n",
        "\\\\\n",
        "\\toprule\n",
        "Inclusive & $2540.0$ & $10555.4$ & $131.8$ & $348.3$\n",
        "\\\\\n",
        "Z veto & $377.7$ & $9971.5$ & $67.1$ & $332.0$\n",
        "\\\\\n",
        "$h_{T}$ cut & $1.3$ & $3.1$ & $0.4$ & $1.4$\n",
        "\\\\\n",
        "$m_{b\\ell}$ asymmetry cut & $0.6$ & $0.7$ & $0.1$ & $0.6$\n",
        "\\\\\n",
        "$m_{b\\ell} \\ge 400$ GeV & $0.5$ & $0.3$ & $6.9 \\cdot 10^{-2}$ & $0.4$\n",
        "\\\\\n",
        "$m_{b\\ell} \\ge 600$ GeV & $0.2$ & $8.9 \\cdot 10^{-2}$ & $4.2 \\cdot 10^{-2}$ & $0.2$"
       ]
      },
      {
       "output_type": "stream",
       "stream": "stdout",
       "text": [
        "\n",
        "\\\\\n",
        "\\bottomrule\n",
        "\\end{tabular}\n",
        "}\n",
        "\\caption{\\color{red}{TODO add caption here!}}\n",
        "\\label{tab:XXX}\n",
        "\\end{table}\n",
        "\n",
        "\n",
        "-----\n",
        "\n",
        "\\begin{table}\n",
        "\\centering{\n",
        "\\begin{tabular}{c|ccc}\n",
        "Selection & B-L stop (500 GeV) & B-L stop (1000 GeV) & B-L stop (800 GeV)\n",
        "\\\\\n",
        "\\toprule\n",
        "Inclusive & $623.7$ & $2.7$ & $19.6$\n",
        "\\\\\n",
        "Z veto & $619.3$ & $2.7$ & $19.6$\n",
        "\\\\\n",
        "$h_{T}$ cut & $122.9$ & $2.5$ & $16.0$\n",
        "\\\\\n",
        "$m_{b\\ell}$ asymmetry cut & $112.8$ & $2.1$ & $14.0$\n",
        "\\\\\n",
        "$m_{b\\ell} \\ge 400$ GeV & $110.3$ & $2.1$ & $13.7$\n",
        "\\\\\n",
        "$m_{b\\ell} \\ge 600$ GeV & $7.7$ & $2.0$ & $12.9$\n",
        "\\\\\n",
        "\\bottomrule\n",
        "\\end{tabular}\n",
        "}\n",
        "\\caption{\\color{red}{TODO add caption here!}}\n",
        "\\label{tab:XXX}\n",
        "\\end{table}\n",
        "\n"
       ]
      }
     ],
     "prompt_number": 10
    },
    {
     "cell_type": "markdown",
     "metadata": {},
     "source": [
      "## printCutFlowTableSampleRows\n",
      "Function which takes a data frame, list of regions and list of samples. The region and sample combinations are extracted from the data frame, and a table is constructed, with each row representing a different sample, and the columns are the different regions (selections)."
     ]
    },
    {
     "cell_type": "code",
     "collapsed": false,
     "input": [
      "def printCutFlowTableSampleRows(region_df, cutflow_regions, sample_names):\n",
      "    print '\\\\begin{table}'\n",
      "    print '\\\\centering{'\n",
      "    print ''.join(['\\\\begin{tabular}{c|', 'c'*len(cutflow_regions), '}'])\n",
      "    print 'Sample &', ' & '.join([getRegionTitle(region) for\n",
      "                                  region in cutflow_regions])\n",
      "    print '\\\\\\\\'\n",
      "    print '\\\\toprule'\n",
      "    \n",
      "    for sample in sample_names:\n",
      "        this_line = [helpers.getSampleTitle(sample)]\n",
      "        this_line.extend([helpers.getNumString(region_df[(region_df.region == region) &\n",
      "                                              (region_df.sample == sample)]['count'].iloc[0], 1)\n",
      "                          for region in cutflow_regions])\n",
      "        print ' & '.join(this_line)\n",
      "        print '\\\\\\\\'\n",
      "\n",
      "\n",
      "    print '''\\\\bottomrule\n",
      "\\\\end{tabular}\n",
      "}\n",
      "\\\\caption{\\\\color{red}{TODO add caption here!}}\n",
      "\\\\label{tab:XXX}\n",
      "\\\\end{table}\n",
      "'''"
     ],
     "language": "python",
     "metadata": {},
     "outputs": [],
     "prompt_number": 11
    },
    {
     "cell_type": "markdown",
     "metadata": {},
     "source": [
      "## Print tables!\n",
      "Print tables with the \"sample - rows option\""
     ]
    },
    {
     "cell_type": "code",
     "collapsed": false,
     "input": [
      "printCutFlowTableSampleRows(region_df,\n",
      "                            cutflow_region_list,\n",
      "                            bkg_sample_names)\n",
      "\n",
      "print\n",
      "print '-----'\n",
      "print\n",
      "\n",
      "printCutFlowTableSampleRows(region_df,\n",
      "                            cutflow_region_list,\n",
      "                            sig_sample_names)"
     ],
     "language": "python",
     "metadata": {},
     "outputs": [
      {
       "output_type": "stream",
       "stream": "stdout",
       "text": [
        "\\begin{table}\n",
        "\\centering{\n",
        "\\begin{tabular}{c|cccccc}\n",
        "Sample & Inclusive & Z veto & $h_{T}$ cut & $m_{b\\ell}$ asymmetry cut & $m_{b\\ell} \\ge 400$ GeV & $m_{b\\ell} \\ge 600$ GeV\n",
        "\\\\\n",
        "\\toprule\n",
        "$Z/\\gamma^{*}$ & $2540.0$ & $377.7$ & $1.3$ & $0.6$ & $0.5$ & $0.2$\n",
        "\\\\\n",
        "$t\\bar{t}$ & $10555.4$ & $9971.5$ & $3.1$ & $0.7$ & $0.3$ & $8.9 \\cdot 10^{-2}$\n",
        "\\\\\n",
        "Other & $131.8$ & $67.1$ & $0.4$ & $0.1$ & $6.9 \\cdot 10^{-2}$ & $4.2 \\cdot 10^{-2}$\n",
        "\\\\\n",
        "Single top & $348.3$ & $332.0$ & $1.4$ & $0.6$ & $0.4$ & $0.2$\n",
        "\\\\\n",
        "\\bottomrule\n",
        "\\end{tabular}\n",
        "}\n",
        "\\caption{\\color{red}{TODO add caption here!}}\n",
        "\\label{tab:XXX}\n",
        "\\end{table}\n",
        "\n",
        "\n",
        "-----\n",
        "\n",
        "\\begin{table}\n",
        "\\centering{\n",
        "\\begin{tabular}{c|cccccc}\n",
        "Sample & Inclusive & Z veto & $h_{T}$ cut & $m_{b\\ell}$ asymmetry cut & $m_{b\\ell} \\ge 400$ GeV & $m_{b\\ell} \\ge 600$ GeV\n",
        "\\\\\n",
        "\\toprule\n",
        "B-L stop (500 GeV) & $623.7$ & $619.3$ & $122.9$ & $112.8$ & $110.3$ & $7.7$"
       ]
      },
      {
       "output_type": "stream",
       "stream": "stdout",
       "text": [
        "\n",
        "\\\\\n",
        "B-L stop (1000 GeV) & $2.7$ & $2.7$ & $2.5$ & $2.1$ & $2.1$ & $2.0$\n",
        "\\\\\n",
        "B-L stop (800 GeV) & $19.6$ & $19.6$ & $16.0$ & $14.0$ & $13.7$ & $12.9$\n",
        "\\\\\n",
        "\\bottomrule\n",
        "\\end{tabular}\n",
        "}\n",
        "\\caption{\\color{red}{TODO add caption here!}}\n",
        "\\label{tab:XXX}\n",
        "\\end{table}\n",
        "\n"
       ]
      }
     ],
     "prompt_number": 12
    },
    {
     "cell_type": "code",
     "collapsed": false,
     "input": [],
     "language": "python",
     "metadata": {},
     "outputs": [],
     "prompt_number": 12
    },
    {
     "cell_type": "code",
     "collapsed": false,
     "input": [],
     "language": "python",
     "metadata": {},
     "outputs": [],
     "prompt_number": 12
    },
    {
     "cell_type": "code",
     "collapsed": false,
     "input": [],
     "language": "python",
     "metadata": {},
     "outputs": []
    }
   ],
   "metadata": {}
  }
 ]
}