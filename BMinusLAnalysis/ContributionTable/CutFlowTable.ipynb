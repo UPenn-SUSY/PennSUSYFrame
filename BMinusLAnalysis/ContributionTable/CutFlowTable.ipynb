{
 "worksheets": [
  {
   "cells": [
    {
     "cell_type": "markdown",
     "metadata": {},
     "source": [
      "# CutFlowTableMaker\n",
      "This script runs through the process of reading a canvas file, and construct a table showing the number of events passing each step of the signal region selection."
     ]
    },
    {
     "cell_type": "code",
     "metadata": {},
     "outputs": [],
     "input": [
      "import sys\n",
      "import ContributionsHelpers as helpers"
     ],
     "language": "python",
     "prompt_number": 38
    },
    {
     "cell_type": "markdown",
     "metadata": {},
     "source": [
      "## Load the files used for this analysis, and extract a data frame\n",
      "Currently, I'm pointing to a file on my laptop. This should probably be changed and made more general..."
     ]
    },
    {
     "cell_type": "code",
     "metadata": {},
     "outputs": [
      {
       "output_type": "stream",
       "stream": "stdout",
       "text": [
        "extracting region contributions from file:  /Users/bjackson/work/PennSusyFrame.00.03.21/compare_plots.b_minus_l.w_data.k_factor.root\n"
       ]
      }
     ],
     "input": [
      "input_file_name = '/Users/bjackson/work/PennSusyFrame.00.03.21/compare_plots.b_minus_l.w_data.k_factor.root' ## TODO hard coded for now make configurable\n",
      "region_df = helpers.extractRegionContributions(input_file_name)"
     ],
     "language": "python",
     "prompt_number": 2
    },
    {
     "cell_type": "markdown",
     "metadata": {},
     "source": [
      "## Dictionary of regions and their names in the table\n",
      "Define the regions we want to use and extract the sample names from the data frame."
     ]
    },
    {
     "cell_type": "code",
     "metadata": {},
     "outputs": [],
     "input": [
      "cutflow_region_list = ['BMINUSL_BL_PAIRING',\n",
      "                       'BMINUSL_ZVETO',\n",
      "                       'BMINUSL_SR_MINUS_MBL_ASYM',\n",
      "                       'BMINUSL_SR']\n",
      "def getRegionTitle(region):\n",
      "    if region == 'BMINUSL_BL_PAIRING':\n",
      "        return 'Inclusive'\n",
      "    if region == 'BMINUSL_ZVETO':\n",
      "        return 'Z veto'\n",
      "    if region == 'BMINUSL_SR_MINUS_MBL_ASYM':\n",
      "        return '$h_{T}$ cut'\n",
      "    if region == 'BMINUSL_SR':\n",
      "        return '$m_{b\\ell}$ asymmetry cut'\n",
      "    return region\n",
      "\n",
      "bkg_sample_names = region_df[-region_df['Sample'].str.contains('stop')]['Sample'].unique()\n",
      "sig_sample_names = region_df[region_df['Sample'].str.contains('stop')]['Sample'].unique()"
     ],
     "language": "python",
     "prompt_number": 33
    },
    {
     "cell_type": "markdown",
     "metadata": {},
     "source": [
      "## printCutFlowTableRegionRows\n",
      "Function which takes a data frame, list of regions and list of samples. The region and sample combinations are extracted from the data frame, and a table is constructed, with each row representing a different region (selection), and the columns are the different samples."
     ]
    },
    {
     "cell_type": "code",
     "metadata": {},
     "outputs": [],
     "input": [
      "def printCutFlowTableRegionRows(region_df, cutflow_regions, sample_names):\n",
      "    print '\\\\begin{table}'\n",
      "    print '\\\\centering{'\n",
      "    print ''.join(['\\\\begin{tabular}{c|', 'c'*len(sample_names), '}'])\n",
      "    print 'Selection &', ' & '.join([helpers.getSampleTitle(sample) for\n",
      "                                     sample in sample_names])\n",
      "    print '\\\\\\\\'\n",
      "    print '\\\\toprule'\n",
      "\n",
      "    for region, region_title in zip(cutflow_regions,\n",
      "                                    [getRegionTitle(r) for r in cutflow_regions]):\n",
      "        this_line = [region_title]\n",
      "        this_line.extend([helpers.getNumString(region_df[(region_df.Region == region) &\n",
      "                                              (region_df.Sample == sample)]['Count'].iloc[0], 1)\n",
      "                          for sample in sample_names])\n",
      "        print ' & '.join(this_line)\n",
      "        print '\\\\\\\\'\n",
      "    print '''\\\\bottomrule\n",
      "\\\\end{tabular}\n",
      "}\n",
      "\\\\caption{\\\\color{red}{TODO add caption here!}}\n",
      "\\\\label{tab:XXX}\n",
      "\\\\end{table}\n",
      "'''"
     ],
     "language": "python",
     "prompt_number": 36
    },
    {
     "cell_type": "markdown",
     "metadata": {},
     "source": [
      "## Print tables!\n",
      "Print tables with the \"region - rows option\""
     ]
    },
    {
     "cell_type": "code",
     "metadata": {},
     "outputs": [
      {
       "output_type": "stream",
       "stream": "stdout",
       "text": [
        "\\begin{table}\n",
        "\\centering{\n",
        "\\begin{tabular}{c|cccc}\n",
        "Selection & $Z/\\gamma^{*}$ & $t\\bar{t}$ & Other & Single top\n",
        "\\\\\n",
        "\\toprule\n",
        "Inclusive & 2473.5 & 10893.9 & 132.6 & 358.7\n",
        "\\\\\n",
        "Z veto & 366.7 & 10290.6 & 67.3 & 341.8\n",
        "\\\\\n",
        "$h_{T}$ cut & 1.2 & 3.2 & 0.4 & 1.4\n",
        "\\\\\n",
        "$m_{b\\ell}$ asymmetry cut & 1.0 & 1.4 & 0.3 & 1.0\n",
        "\\\\\n",
        "\\bottomrule\n",
        "\\end{tabular}\n",
        "}\n",
        "\\caption{\\color{red}{TODO add caption here!}}\n",
        "\\label{tab:XXX}\n",
        "\\end{table}\n",
        "\n",
        "\n",
        "-----\n",
        "\n",
        "\\begin{table}\n",
        "\\centering{\n",
        "\\begin{tabular}{c|ccc}\n",
        "Selection & B-L stop (500 GeV) & B-L stop (1000 GeV) & B-L stop (800 GeV)\n",
        "\\\\\n",
        "\\toprule\n",
        "Inclusive & 623.7 & 2.5 & 18.9\n",
        "\\\\\n",
        "Z veto & 619.3 & 2.5 & 18.9\n",
        "\\\\\n",
        "$h_{T}$ cut & 120.2 & 2.3 & 15.3"
       ]
      },
      {
       "output_type": "stream",
       "stream": "stdout",
       "text": [
        "\n",
        "\\\\\n",
        "$m_{b\\ell}$ asymmetry cut & 118.9 & 2.3 & 15.0\n",
        "\\\\\n",
        "\\bottomrule\n",
        "\\end{tabular}\n",
        "}\n",
        "\\caption{\\color{red}{TODO add caption here!}}\n",
        "\\label{tab:XXX}\n",
        "\\end{table}\n",
        "\n"
       ]
      }
     ],
     "input": [
      "printCutFlowTableRegionRows(region_df,\n",
      "                            cutflow_region_list,\n",
      "                            bkg_sample_names)\n",
      "\n",
      "print\n",
      "print '-----'\n",
      "print\n",
      "\n",
      "printCutFlowTableRegionRows(region_df,\n",
      "                            cutflow_region_list,\n",
      "                            sig_sample_names)"
     ],
     "language": "python",
     "prompt_number": 29
    },
    {
     "cell_type": "markdown",
     "metadata": {},
     "source": [
      "## printCutFlowTableSampleRows\n",
      "Function which takes a data frame, list of regions and list of samples. The region and sample combinations are extracted from the data frame, and a table is constructed, with each row representing a different sample, and the columns are the different regions (selections)."
     ]
    },
    {
     "cell_type": "code",
     "metadata": {},
     "outputs": [],
     "input": [
      "def printCutFlowTableSampleRows(region_df, cutflow_regions, sample_names):\n",
      "    print '\\\\begin{table}'\n",
      "    print '\\\\centering{'\n",
      "    print ''.join(['\\\\begin{tabular}{c|', 'c'*len(cutflow_regions), '}'])\n",
      "    print 'Sample &', ' & '.join([getRegionTitle(region) for\n",
      "                                  region in cutflow_regions])\n",
      "    print '\\\\\\\\'\n",
      "    print '\\\\toprule'\n",
      "    \n",
      "    for sample in sample_names:\n",
      "        this_line = [helpers.getSampleTitle(sample)]\n",
      "        this_line.extend([helpers.getNumString(region_df[(region_df.Region == region) &\n",
      "                                              (region_df.Sample == sample)]['Count'].iloc[0], 1)\n",
      "                          for region in cutflow_regions])\n",
      "        print ' & '.join(this_line)\n",
      "        print '\\\\\\\\'\n",
      "\n",
      "\n",
      "    print '''\\\\bottomrule\n",
      "\\\\end{tabular}\n",
      "}\n",
      "\\\\caption{\\\\color{red}{TODO add caption here!}}\n",
      "\\\\label{tab:XXX}\n",
      "\\\\end{table}\n",
      "'''"
     ],
     "language": "python",
     "prompt_number": 37
    },
    {
     "cell_type": "markdown",
     "metadata": {},
     "source": [
      "## Print tables!\n",
      "Print tables with the \"sample - rows option\""
     ]
    },
    {
     "cell_type": "code",
     "metadata": {},
     "outputs": [
      {
       "output_type": "stream",
       "stream": "stdout",
       "text": [
        "\\begin{table}\n",
        "\\centering{\n",
        "\\begin{tabular}{c|cccc}\n",
        "Sample & Inclusive & Z veto & $h_{T}$ cut & $m_{b\\ell}$ asymmetry cut\n",
        "\\\\\n",
        "\\toprule\n",
        "$Z/\\gamma^{*}$ & 2473.5 & 366.7 & 1.2 & 1.0\n",
        "\\\\\n",
        "$t\\bar{t}$ & 10893.9 & 10290.6 & 3.2 & 1.4\n",
        "\\\\\n",
        "Other & 132.6 & 67.3 & 0.4 & 0.3\n",
        "\\\\\n",
        "Single top & 358.7 & 341.8 & 1.4 & 1.0\n",
        "\\\\\n",
        "\\bottomrule\n",
        "\\end{tabular}\n",
        "}\n",
        "\\caption{\\color{red}{TODO add caption here!}}\n",
        "\\label{tab:XXX}\n",
        "\\end{table}\n",
        "\n",
        "\n",
        "-----\n",
        "\n",
        "\\begin{table}\n",
        "\\centering{\n",
        "\\begin{tabular}{c|cccc}\n",
        "Sample & Inclusive & Z veto & $h_{T}$ cut & $m_{b\\ell}$ asymmetry cut\n",
        "\\\\\n",
        "\\toprule\n",
        "B-L stop (500 GeV) & 623.7 & 619.3 & 120.2 & 118.9\n",
        "\\\\\n",
        "B-L stop (1000 GeV) & 2.5 & 2.5 & 2.3 & 2.3"
       ]
      },
      {
       "output_type": "stream",
       "stream": "stdout",
       "text": [
        "\n",
        "\\\\\n",
        "B-L stop (800 GeV) & 18.9 & 18.9 & 15.3 & 15.0\n",
        "\\\\\n",
        "\\bottomrule\n",
        "\\end{tabular}\n",
        "}\n",
        "\\caption{\\color{red}{TODO add caption here!}}\n",
        "\\label{tab:XXX}\n",
        "\\end{table}\n",
        "\n"
       ]
      }
     ],
     "input": [
      "printCutFlowTableSampleRows(region_df,\n",
      "                            cutflow_region_list,\n",
      "                            bkg_sample_names)\n",
      "\n",
      "print\n",
      "print '-----'\n",
      "print\n",
      "\n",
      "printCutFlowTableSampleRows(region_df,\n",
      "                            cutflow_region_list,\n",
      "                            sig_sample_names)"
     ],
     "language": "python",
     "prompt_number": 31
    },
    {
     "cell_type": "code",
     "metadata": {},
     "outputs": [],
     "input": [
      ""
     ],
     "language": "python",
     "prompt_number": 31
    }
   ]
  }
 ],
 "cells": [],
 "metadata": {
  "name": "",
  "signature": "sha256:dbd8a97ed1d4c815872db4fb8fbd36cf6f6e8aeca38c3a401216273341171aaf"
 },
 "nbformat": 3,
 "nbformat_minor": 0
}