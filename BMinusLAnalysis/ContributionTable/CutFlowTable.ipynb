{
 "worksheets": [
  {
   "cells": [
    {
     "cell_type": "markdown",
     "metadata": {},
     "source": [
      "# CutFlowTableMaker\n",
      "This script runs through the process of reading a canvas file, and construct a table showing the number of events passing each step of the signal region selection."
     ]
    },
    {
     "cell_type": "code",
     "metadata": {},
     "outputs": [],
     "input": [
      "import sys\n",
      "import ContributionsHelpers as helpers"
     ],
     "language": "python",
     "prompt_number": 1
    },
    {
     "cell_type": "markdown",
     "metadata": {},
     "source": [
      "## Load the files used for this analysis, and extract a data frame\n",
      "Currently, I'm pointing to a file on my laptop. This should probably be changed and made more general..."
     ]
    },
    {
     "cell_type": "code",
     "metadata": {},
     "outputs": [
      {
       "output_type": "stream",
       "stream": "stdout",
       "text": [
        "extracting region contributions from file:  /Users/bjackson/work/PennSusyFrame.00.03.21/compare_plots.b_minus_l.root\n"
       ]
      },
      {
       "output_type": "stream",
       "stream": "stderr",
       "text": [
        "/Users/bjackson/anaconda/lib/python2.7/site-packages/pandas/core/frame.py:1712: UserWarning: Boolean Series key will be reindexed to match DataFrame index.\n",
        "  \"DataFrame index.\", UserWarning)\n"
       ]
      }
     ],
     "input": [
      "input_file_name = '/Users/bjackson/work/PennSusyFrame.00.03.21/compare_plots.b_minus_l.root' ## TODO hard coded for now make configurable\n",
      "region_df = helpers.extractRegionContributions(input_file_name)"
     ],
     "language": "python",
     "prompt_number": 2
    },
    {
     "cell_type": "markdown",
     "metadata": {},
     "source": [
      "## Dictionary of regions and their names in the table\n",
      "Define the regions we want to use and extract the sample names from the data frame."
     ]
    },
    {
     "cell_type": "code",
     "metadata": {},
     "outputs": [
      {
       "output_type": "pyout",
       "html": [
        "<div style=\"max-height:1000px;max-width:1500px;overflow:auto;\">\n",
        "<table border=\"1\" class=\"dataframe\">\n",
        "  <thead>\n",
        "    <tr style=\"text-align: right;\">\n",
        "      <th></th>\n",
        "      <th>region</th>\n",
        "      <th>sample</th>\n",
        "      <th>count</th>\n",
        "      <th>raw</th>\n",
        "      <th>uncertainty</th>\n",
        "    </tr>\n",
        "  </thead>\n",
        "  <tbody>\n",
        "    <tr>\n",
        "      <th>68 </th>\n",
        "      <td>         BMINUSL_PARTIAL_SR_HT_1100_Z_VETO</td>\n",
        "      <td> t#bar{t}</td>\n",
        "      <td>   3.087375</td>\n",
        "      <td>  175</td>\n",
        "      <td>  0.2333836</td>\n",
        "    </tr>\n",
        "    <tr>\n",
        "      <th>75 </th>\n",
        "      <td>                BMINUSL_SR_HT_1100_MBL_200</td>\n",
        "      <td> t#bar{t}</td>\n",
        "      <td>  0.3656917</td>\n",
        "      <td>   22</td>\n",
        "      <td> 0.07796573</td>\n",
        "    </tr>\n",
        "    <tr>\n",
        "      <th>82 </th>\n",
        "      <td>                BMINUSL_SR_HT_1100_MBL_400</td>\n",
        "      <td> t#bar{t}</td>\n",
        "      <td>  0.2991158</td>\n",
        "      <td>   15</td>\n",
        "      <td> 0.07723137</td>\n",
        "    </tr>\n",
        "    <tr>\n",
        "      <th>89 </th>\n",
        "      <td>       BMINUSL_SR_HT_1100_MBL_400_MINUS_HT</td>\n",
        "      <td> t#bar{t}</td>\n",
        "      <td>   47.20965</td>\n",
        "      <td> 1982</td>\n",
        "      <td>   1.060423</td>\n",
        "    </tr>\n",
        "    <tr>\n",
        "      <th>96 </th>\n",
        "      <td> BMINUSL_SR_HT_1100_MBL_400_MINUS_MBL_ASYM</td>\n",
        "      <td> t#bar{t}</td>\n",
        "      <td>   2.206707</td>\n",
        "      <td>  124</td>\n",
        "      <td>  0.1981681</td>\n",
        "    </tr>\n",
        "    <tr>\n",
        "      <th>103</th>\n",
        "      <td>   BMINUSL_SR_HT_1100_MBL_400_MINUS_Z_VETO</td>\n",
        "      <td> t#bar{t}</td>\n",
        "      <td>  0.2991158</td>\n",
        "      <td>   16</td>\n",
        "      <td> 0.07477896</td>\n",
        "    </tr>\n",
        "    <tr>\n",
        "      <th>110</th>\n",
        "      <td>                BMINUSL_SR_HT_1100_MBL_600</td>\n",
        "      <td> t#bar{t}</td>\n",
        "      <td> 0.08878137</td>\n",
        "      <td>    3</td>\n",
        "      <td> 0.05125795</td>\n",
        "    </tr>\n",
        "    <tr>\n",
        "      <th>117</th>\n",
        "      <td>       BMINUSL_SR_HT_1100_MBL_600_MINUS_HT</td>\n",
        "      <td> t#bar{t}</td>\n",
        "      <td>   2.951373</td>\n",
        "      <td>  143</td>\n",
        "      <td>  0.2468062</td>\n",
        "    </tr>\n",
        "    <tr>\n",
        "      <th>124</th>\n",
        "      <td> BMINUSL_SR_HT_1100_MBL_600_MINUS_MBL_ASYM</td>\n",
        "      <td> t#bar{t}</td>\n",
        "      <td>   1.018608</td>\n",
        "      <td>   59</td>\n",
        "      <td>  0.1326115</td>\n",
        "    </tr>\n",
        "    <tr>\n",
        "      <th>131</th>\n",
        "      <td>   BMINUSL_SR_HT_1100_MBL_600_MINUS_Z_VETO</td>\n",
        "      <td> t#bar{t}</td>\n",
        "      <td> 0.08878137</td>\n",
        "      <td>    3</td>\n",
        "      <td> 0.05125795</td>\n",
        "    </tr>\n",
        "    <tr>\n",
        "      <th>138</th>\n",
        "      <td>              BMINUSL_SR_HT_1100_MINUS_MBL</td>\n",
        "      <td> t#bar{t}</td>\n",
        "      <td>  0.7211204</td>\n",
        "      <td>   39</td>\n",
        "      <td>  0.1154717</td>\n",
        "    </tr>\n",
        "  </tbody>\n",
        "</table>\n",
        "</div>"
       ],
       "text": [
        "                                        region    sample       count   raw  \\\n",
        "68           BMINUSL_PARTIAL_SR_HT_1100_Z_VETO  t#bar{t}    3.087375   175   \n",
        "75                  BMINUSL_SR_HT_1100_MBL_200  t#bar{t}   0.3656917    22   \n",
        "82                  BMINUSL_SR_HT_1100_MBL_400  t#bar{t}   0.2991158    15   \n",
        "89         BMINUSL_SR_HT_1100_MBL_400_MINUS_HT  t#bar{t}    47.20965  1982   \n",
        "96   BMINUSL_SR_HT_1100_MBL_400_MINUS_MBL_ASYM  t#bar{t}    2.206707   124   \n",
        "103    BMINUSL_SR_HT_1100_MBL_400_MINUS_Z_VETO  t#bar{t}   0.2991158    16   \n",
        "110                 BMINUSL_SR_HT_1100_MBL_600  t#bar{t}  0.08878137     3   \n",
        "117        BMINUSL_SR_HT_1100_MBL_600_MINUS_HT  t#bar{t}    2.951373   143   \n",
        "124  BMINUSL_SR_HT_1100_MBL_600_MINUS_MBL_ASYM  t#bar{t}    1.018608    59   \n",
        "131    BMINUSL_SR_HT_1100_MBL_600_MINUS_Z_VETO  t#bar{t}  0.08878137     3   \n",
        "138               BMINUSL_SR_HT_1100_MINUS_MBL  t#bar{t}   0.7211204    39   \n",
        "\n",
        "    uncertainty  \n",
        "68    0.2333836  \n",
        "75   0.07796573  \n",
        "82   0.07723137  \n",
        "89     1.060423  \n",
        "96    0.1981681  \n",
        "103  0.07477896  \n",
        "110  0.05125795  \n",
        "117   0.2468062  \n",
        "124   0.1326115  \n",
        "131  0.05125795  \n",
        "138   0.1154717  "
       ],
       "metadata": {}
      }
     ],
     "input": [
      "region_df[region_df['region'].str.contains('SR') & region_df['sample'].str.contains('t#bar{t}')].head(50)"
     ],
     "language": "python",
     "prompt_number": 11
    },
    {
     "cell_type": "code",
     "metadata": {},
     "outputs": [
      {
       "output_type": "pyout",
       "html": [
        "<div style=\"max-height:1000px;max-width:1500px;overflow:auto;\">\n",
        "<table border=\"1\" class=\"dataframe\">\n",
        "  <thead>\n",
        "    <tr style=\"text-align: right;\">\n",
        "      <th></th>\n",
        "      <th>region</th>\n",
        "      <th>sample</th>\n",
        "      <th>count</th>\n",
        "      <th>raw</th>\n",
        "      <th>uncertainty</th>\n",
        "    </tr>\n",
        "  </thead>\n",
        "  <tbody>\n",
        "    <tr>\n",
        "      <th>0</th>\n",
        "      <td> BMINUSL_BL_PAIRING</td>\n",
        "      <td>          Z/#gamma*</td>\n",
        "      <td> 2539.952</td>\n",
        "      <td> 106175</td>\n",
        "      <td> 7.794969</td>\n",
        "    </tr>\n",
        "    <tr>\n",
        "      <th>1</th>\n",
        "      <td> BMINUSL_BL_PAIRING</td>\n",
        "      <td>           t#bar{t}</td>\n",
        "      <td> 10555.38</td>\n",
        "      <td> 414941</td>\n",
        "      <td> 16.38629</td>\n",
        "    </tr>\n",
        "    <tr>\n",
        "      <th>2</th>\n",
        "      <td> BMINUSL_BL_PAIRING</td>\n",
        "      <td>              Other</td>\n",
        "      <td> 131.8053</td>\n",
        "      <td>  15739</td>\n",
        "      <td> 1.050617</td>\n",
        "    </tr>\n",
        "    <tr>\n",
        "      <th>3</th>\n",
        "      <td> BMINUSL_BL_PAIRING</td>\n",
        "      <td>         Single top</td>\n",
        "      <td> 348.2721</td>\n",
        "      <td>  74405</td>\n",
        "      <td> 1.276785</td>\n",
        "    </tr>\n",
        "    <tr>\n",
        "      <th>4</th>\n",
        "      <td> BMINUSL_BL_PAIRING</td>\n",
        "      <td> B-L stop (500 GeV)</td>\n",
        "      <td> 623.7145</td>\n",
        "      <td>  24261</td>\n",
        "      <td> 4.004345</td>\n",
        "    </tr>\n",
        "  </tbody>\n",
        "</table>\n",
        "</div>"
       ],
       "text": [
        "               region              sample     count     raw uncertainty\n",
        "0  BMINUSL_BL_PAIRING           Z/#gamma*  2539.952  106175    7.794969\n",
        "1  BMINUSL_BL_PAIRING            t#bar{t}  10555.38  414941    16.38629\n",
        "2  BMINUSL_BL_PAIRING               Other  131.8053   15739    1.050617\n",
        "3  BMINUSL_BL_PAIRING          Single top  348.2721   74405    1.276785\n",
        "4  BMINUSL_BL_PAIRING  B-L stop (500 GeV)  623.7145   24261    4.004345"
       ],
       "metadata": {}
      }
     ],
     "input": [
      "region_df.head()"
     ],
     "language": "python",
     "prompt_number": 12
    },
    {
     "cell_type": "code",
     "metadata": {},
     "outputs": [
      {
       "output_type": "stream",
       "stream": "stdout",
       "text": [
        "['BMINUSL_BL_PAIRING' 'BMINUSL_CR_TOP_MBL_200'\n",
        " 'BMINUSL_CR_TOP_MBL_200_MINUS_HT' 'BMINUSL_CR_TOP_MBL_200_MINUS_MBL_ASYM'\n",
        " 'BMINUSL_CR_TOP_MBL_200_MINUS_MET_SIG' 'BMINUSL_CR_Z_MBL_200'\n",
        " 'BMINUSL_CR_Z_MBL_200_MINUS_HT' 'BMINUSL_CR_Z_MBL_200_MINUS_MBL_ASYM'\n",
        " 'BMINUSL_CR_Z_MBL_200_MINUS_MET_SIG' 'BMINUSL_GE_4_OBJECTS'\n",
        " 'BMINUSL_NO_WEIGHTS' 'BMINUSL_PARTIAL_SR_HT_1100_Z_VETO'\n",
        " 'BMINUSL_SR_HT_1100_MBL_200' 'BMINUSL_SR_HT_1100_MBL_400'\n",
        " 'BMINUSL_SR_HT_1100_MBL_400_MINUS_HT'\n",
        " 'BMINUSL_SR_HT_1100_MBL_400_MINUS_MBL_ASYM'\n",
        " 'BMINUSL_SR_HT_1100_MBL_400_MINUS_Z_VETO' 'BMINUSL_SR_HT_1100_MBL_600'\n",
        " 'BMINUSL_SR_HT_1100_MBL_600_MINUS_HT'\n",
        " 'BMINUSL_SR_HT_1100_MBL_600_MINUS_MBL_ASYM'\n",
        " 'BMINUSL_SR_HT_1100_MBL_600_MINUS_Z_VETO' 'BMINUSL_SR_HT_1100_MINUS_MBL'\n",
        " 'BMINUSL_VR_TOP_1_MBL_200' 'BMINUSL_VR_TOP_2_MBL_200'\n",
        " 'BMINUSL_VR_TOP_3_MBL_200' 'BMINUSL_VR_TOP_4_MBL_200'\n",
        " 'BMINUSL_VR_Z_MBL_200' 'BMINUSL_ZREGION_MBL_200' 'BMINUSL_ZVETO']\n",
        "['Z/#gamma*' 't#bar{t}' 'Other' 'Single top' 'B-L stop (500 GeV)'\n",
        " 'B-L stop (1000 GeV)' 'B-L stop (800 GeV)']\n"
       ]
      }
     ],
     "input": [
      "print region_df.region.unique()\n",
      "print region_df.sample.unique()"
     ],
     "language": "python",
     "prompt_number": 13
    },
    {
     "cell_type": "code",
     "metadata": {},
     "outputs": [],
     "input": [
      "cutflow_region_list = ['BMINUSL_BL_PAIRING',\n",
      "                       'BMINUSL_ZVETO',\n",
      "                       'BMINUSL_PARTIAL_SR_HT_1100_Z_VETO',\n",
      "                       'BMINUSL_SR_HT_1100_MINUS_MBL',\n",
      "                       'BMINUSL_SR_HT_1100_MBL_400',\n",
      "                       'BMINUSL_SR_HT_1100_MBL_600'\n",
      "                       ]\n",
      "def getRegionTitle(region):\n",
      "    if region == 'BMINUSL_BL_PAIRING':\n",
      "        return '$bb\\\\ell\\\\ell$'\n",
      "    if region == 'BMINUSL_ZVETO':\n",
      "        return '$Z$ veto'\n",
      "    if region == 'BMINUSL_PARTIAL_SR_HT_1100_Z_VETO':\n",
      "        return '$H_{T} \\ge 1100$ GeV'\n",
      "    if region == 'BMINUSL_SR_HT_1100_MINUS_MBL':\n",
      "        return '$m_{b\\ell}$ asymmetry $\\le 0.2$'\n",
      "    if region == 'BMINUSL_SR_HT_1100_MBL_400':\n",
      "        return '$m_{b\\ell}^{0} \\ge 400$ GeV'\n",
      "    if region == 'BMINUSL_SR_HT_1100_MBL_600':\n",
      "        return '$m_{b\\ell}^{0} \\ge 600$ GeV'\n",
      "\n",
      "    return region\n",
      "\n",
      "bkg_sample_names = region_df[-region_df['sample'].str.contains('stop')]['sample'].unique()\n",
      "sig_sample_names = region_df[region_df['sample'].str.contains('stop')]['sample'].unique()"
     ],
     "language": "python",
     "prompt_number": 19
    },
    {
     "cell_type": "markdown",
     "metadata": {},
     "source": [
      "## printCutFlowTableRegionRows\n",
      "Function which takes a data frame, list of regions and list of samples. The region and sample combinations are extracted from the data frame, and a table is constructed, with each row representing a different region (selection), and the columns are the different samples."
     ]
    },
    {
     "cell_type": "code",
     "metadata": {},
     "outputs": [],
     "input": [
      "def printCutFlowTableRegionRows(region_df, cutflow_regions, sample_names):\n",
      "    print '\\\\begin{table}'\n",
      "    print '\\\\centering{'\n",
      "    print ''.join(['\\\\begin{tabular}{c|', 'c'*len(sample_names), '}'])\n",
      "    print '\\\\toprule'\n",
      "    print 'Selection &', ' & '.join([helpers.getSampleTitle(sample) for\n",
      "                                     sample in sample_names])\n",
      "    print '\\\\\\\\'\n",
      "    print '\\\\midrule'\n",
      "\n",
      "    for region, region_title in zip(cutflow_regions,\n",
      "                                    [getRegionTitle(r) for r in cutflow_regions]):\n",
      "        this_line = [region_title]\n",
      "        \n",
      "        def get_entry(sample):\n",
      "            this_entry = [helpers.getNumString(region_df[(region_df.region == region) &\n",
      "                                                         (region_df.sample == sample)]['count'].iloc[0], 3),\n",
      "                          ' $\\\\pm$ ',\n",
      "                          helpers.getNumString(region_df[(region_df.region == region) &\n",
      "                                                         (region_df.sample == sample)]['uncertainty'].iloc[0], 3)]\n",
      "            return ''.join(this_entry)\n",
      "                    \n",
      "    \n",
      "        this_line.extend([get_entry(sample) for sample in sample_names])\n",
      "        print ' & '.join(this_line)\n",
      "        print '\\\\\\\\'\n",
      "    print '''\\\\bottomrule\n",
      "\\\\end{tabular}\n",
      "}\n",
      "\\\\caption{\\\\color{red}{TODO add caption here!}}\n",
      "\\\\label{tab:XXX}\n",
      "\\\\end{table}\n",
      "'''"
     ],
     "language": "python",
     "prompt_number": 20
    },
    {
     "cell_type": "markdown",
     "metadata": {},
     "source": [
      "## Print tables!\n",
      "Print tables with the \"region - rows option\""
     ]
    },
    {
     "cell_type": "code",
     "metadata": {},
     "outputs": [
      {
       "output_type": "stream",
       "stream": "stdout",
       "text": [
        "\\begin{table}\n",
        "\\centering{\n",
        "\\begin{tabular}{c|cccc}\n",
        "\\toprule\n",
        "Selection & $Z/\\gamma^{*}$ & $t\\bar{t}$ & Other & Single top\n",
        "\\\\\n",
        "\\midrule\n",
        "$bb\\ell\\ell$ & $2539.952$ $\\pm$ $7.795$ & $10555.376$ $\\pm$ $16.386$ & $131.805$ $\\pm$ $1.051$ & $348.272$ $\\pm$ $1.277$\n",
        "\\\\\n",
        "$Z$ veto & $377.676$ $\\pm$ $3.031$ & $9971.531$ $\\pm$ $15.924$ & $67.076$ $\\pm$ $0.651$ & $331.981$ $\\pm$ $1.246$\n",
        "\\\\\n",
        "$H_{T} \\ge 1100$ GeV & $1.308$ $\\pm$ $0.041$ & $3.087$ $\\pm$ $0.233$ & $0.396$ $\\pm$ $0.070$ & $1.434$ $\\pm$ $0.080$"
       ]
      },
      {
       "output_type": "stream",
       "stream": "stdout",
       "text": [
        "\n",
        "\\\\\n",
        "$m_{b\\ell}$ asymmetry $\\le 0.2$ & $0.613$ $\\pm$ $0.029$ & $0.721$ $\\pm$ $0.115$ & $0.130$ $\\pm$ $0.043$ & $0.558$ $\\pm$ $0.053$\n",
        "\\\\\n",
        "$m_{b\\ell}^{0} \\ge 400$ GeV & $0.525$ $\\pm$ $0.026$ & $0.299$ $\\pm$ $0.077$ & $0.069$ $\\pm$ $0.035$ & $0.445$ $\\pm$ $0.047$\n",
        "\\\\\n",
        "$m_{b\\ell}^{0} \\ge 600$ GeV & $0.222$ $\\pm$ $0.015$ & $0.089$ $\\pm$ $0.051$ & $0.042$ $\\pm$ $0.030$ & $0.184$ $\\pm$ $0.032$\n",
        "\\\\\n",
        "\\bottomrule\n",
        "\\end{tabular}\n",
        "}\n",
        "\\caption{\\color{red}{TODO add caption here!}}\n",
        "\\label{tab:XXX}\n",
        "\\end{table}\n",
        "\n",
        "\n",
        "-----\n",
        "\n",
        "\\begin{table}\n",
        "\\centering{\n",
        "\\begin{tabular}{c|ccc}\n",
        "\\toprule\n",
        "Selection & B-L stop (500 GeV) & B-L stop (1000 GeV) & B-L stop (800 GeV)\n",
        "\\\\\n",
        "\\midrule\n",
        "$bb\\ell\\ell$ & $623.714$ $\\pm$ $4.004$ & $2.682$ $\\pm$ $0.045$ & $19.648$ $\\pm$ $0.184$"
       ]
      },
      {
       "output_type": "stream",
       "stream": "stdout",
       "text": [
        "\n",
        "\\\\\n",
        "$Z$ veto & $619.261$ $\\pm$ $3.990$ & $2.681$ $\\pm$ $0.045$ & $19.617$ $\\pm$ $0.183$\n",
        "\\\\\n",
        "$H_{T} \\ge 1100$ GeV & $122.861$ $\\pm$ $1.759$ & $2.501$ $\\pm$ $0.044$ & $16.009$ $\\pm$ $0.165$\n",
        "\\\\\n",
        "$m_{b\\ell}$ asymmetry $\\le 0.2$ & $112.820$ $\\pm$ $1.680$ & $2.119$ $\\pm$ $0.040$ & $14.004$ $\\pm$ $0.153$\n",
        "\\\\\n",
        "$m_{b\\ell}^{0} \\ge 400$ GeV & $110.305$ $\\pm$ $1.659$ & $2.091$ $\\pm$ $0.040$ & $13.738$ $\\pm$ $0.151$\n",
        "\\\\\n",
        "$m_{b\\ell}^{0} \\ge 600$ GeV & $7.727$ $\\pm$ $0.446$ & $1.991$ $\\pm$ $0.039$ & $12.861$ $\\pm$ $0.146$"
       ]
      },
      {
       "output_type": "stream",
       "stream": "stdout",
       "text": [
        "\n",
        "\\\\\n",
        "\\bottomrule\n",
        "\\end{tabular}\n",
        "}\n",
        "\\caption{\\color{red}{TODO add caption here!}}\n",
        "\\label{tab:XXX}\n",
        "\\end{table}\n",
        "\n"
       ]
      }
     ],
     "input": [
      "printCutFlowTableRegionRows(region_df,\n",
      "                            cutflow_region_list,\n",
      "                            bkg_sample_names)\n",
      "\n",
      "print\n",
      "print '-----'\n",
      "print\n",
      "\n",
      "printCutFlowTableRegionRows(region_df,\n",
      "                            cutflow_region_list,\n",
      "                            sig_sample_names)"
     ],
     "language": "python",
     "prompt_number": 21
    },
    {
     "cell_type": "markdown",
     "metadata": {},
     "source": [
      "## printCutFlowTableSampleRows\n",
      "Function which takes a data frame, list of regions and list of samples. The region and sample combinations are extracted from the data frame, and a table is constructed, with each row representing a different sample, and the columns are the different regions (selections)."
     ]
    },
    {
     "cell_type": "code",
     "metadata": {},
     "outputs": [],
     "input": [
      "def printCutFlowTableSampleRows(region_df, cutflow_regions, sample_names):\n",
      "    print '\\\\begin{table}'\n",
      "    print '\\\\centering{'\n",
      "    print ''.join(['\\\\begin{tabular}{c|', 'c'*len(cutflow_regions), '}'])\n",
      "    print 'Sample &', ' & '.join([getRegionTitle(region) for\n",
      "                                  region in cutflow_regions])\n",
      "    print '\\\\\\\\'\n",
      "    print '\\\\toprule'\n",
      "    \n",
      "    for sample in sample_names:\n",
      "        this_line = [helpers.getSampleTitle(sample)]\n",
      "        this_line.extend([helpers.getNumString(region_df[(region_df.region == region) &\n",
      "                                              (region_df.sample == sample)]['count'].iloc[0], 1)\n",
      "                          for region in cutflow_regions])\n",
      "        print ' & '.join(this_line)\n",
      "        print '\\\\\\\\'\n",
      "\n",
      "\n",
      "    print '''\\\\bottomrule\n",
      "\\\\end{tabular}\n",
      "}\n",
      "\\\\caption{\\\\color{red}{TODO add caption here!}}\n",
      "\\\\label{tab:XXX}\n",
      "\\\\end{table}\n",
      "'''"
     ],
     "language": "python",
     "prompt_number": 17
    },
    {
     "cell_type": "markdown",
     "metadata": {},
     "source": [
      "## Print tables!\n",
      "Print tables with the \"sample - rows option\""
     ]
    },
    {
     "cell_type": "code",
     "metadata": {},
     "outputs": [
      {
       "output_type": "stream",
       "stream": "stdout",
       "text": [
        "\\begin{table}\n",
        "\\centering{\n",
        "\\begin{tabular}{c|cccccc}\n",
        "Sample & $bb\\ell\\ell$ & $Z$ veto & $H_{T}$ cut & $m_{b\\ell}$ asymmetry cut & $m_{b\\ell}^{0} \\ge 400$ GeV & $m_{b\\ell}^{0} \\ge 600$ GeV\n",
        "\\\\\n",
        "\\toprule\n",
        "$Z/\\gamma^{*}$ & $2540.0$ & $377.7$ & $1.3$ & $0.6$ & $0.5$ & $0.2$\n",
        "\\\\\n",
        "$t\\bar{t}$ & $10555.4$ & $9971.5$ & $3.1$ & $0.7$ & $0.3$ & $8.9 \\cdot 10^{-2}$\n",
        "\\\\\n",
        "Other & $131.8$ & $67.1$ & $0.4$ & $0.1$ & $6.9 \\cdot 10^{-2}$ & $4.2 \\cdot 10^{-2}$\n",
        "\\\\\n",
        "Single top & $348.3$ & $332.0$ & $1.4$ & $0.6$ & $0.4$ & $0.2$\n",
        "\\\\\n",
        "\\bottomrule\n",
        "\\end{tabular}\n",
        "}\n",
        "\\caption{\\color{red}{TODO add caption here!}}\n",
        "\\label{tab:XXX}\n",
        "\\end{table}\n",
        "\n",
        "\n",
        "-----\n",
        "\n",
        "\\begin{table}\n",
        "\\centering{\n",
        "\\begin{tabular}{c|cccccc}\n",
        "Sample & $bb\\ell\\ell$ & $Z$ veto & $H_{T}$ cut & $m_{b\\ell}$ asymmetry cut & $m_{b\\ell}^{0} \\ge 400$ GeV & $m_{b\\ell}^{0} \\ge 600$ GeV\n",
        "\\\\\n",
        "\\toprule\n",
        "B-L stop (500 GeV) & $623.7$ & $619.3$ & $122.9$ & $112.8$ & $110.3$ & $7.7$"
       ]
      },
      {
       "output_type": "stream",
       "stream": "stdout",
       "text": [
        "\n",
        "\\\\\n",
        "B-L stop (1000 GeV) & $2.7$ & $2.7$ & $2.5$ & $2.1$ & $2.1$ & $2.0$\n",
        "\\\\\n",
        "B-L stop (800 GeV) & $19.6$ & $19.6$ & $16.0$ & $14.0$ & $13.7$ & $12.9$\n",
        "\\\\\n",
        "\\bottomrule\n",
        "\\end{tabular}\n",
        "}\n",
        "\\caption{\\color{red}{TODO add caption here!}}\n",
        "\\label{tab:XXX}\n",
        "\\end{table}\n",
        "\n"
       ]
      }
     ],
     "input": [
      "printCutFlowTableSampleRows(region_df,\n",
      "                            cutflow_region_list,\n",
      "                            bkg_sample_names)\n",
      "\n",
      "print\n",
      "print '-----'\n",
      "print\n",
      "\n",
      "printCutFlowTableSampleRows(region_df,\n",
      "                            cutflow_region_list,\n",
      "                            sig_sample_names)"
     ],
     "language": "python",
     "prompt_number": 18
    },
    {
     "cell_type": "code",
     "metadata": {},
     "outputs": [],
     "input": [
      ""
     ],
     "language": "python",
     "prompt_number": 27
    },
    {
     "cell_type": "code",
     "metadata": {},
     "outputs": [],
     "input": [
      ""
     ],
     "language": "python",
     "prompt_number": 12
    },
    {
     "cell_type": "code",
     "metadata": {},
     "outputs": [],
     "input": [
      ""
     ],
     "language": "python"
    }
   ]
  }
 ],
 "cells": [],
 "metadata": {
  "name": "",
  "signature": "sha256:e3507643b62e6300881b4c78fa19492f3ef056af6e98d27e8a4615060473007c"
 },
 "nbformat": 3,
 "nbformat_minor": 0
}